{
 "cells": [
  {
   "cell_type": "markdown",
   "id": "6dbdc18b-7171-47df-bddd-c74f434bd64c",
   "metadata": {},
   "source": [
    "## Description\n",
    "_______\n",
    "\n",
    "This script plots SWE rank vs. statistics for the output of the 05_statistics.ipynb script."
   ]
  },
  {
   "cell_type": "markdown",
   "id": "9681a32b-7047-4a19-89de-e05d78169e89",
   "metadata": {},
   "source": [
    "### Import Libraries"
   ]
  },
  {
   "cell_type": "code",
   "execution_count": null,
   "id": "2d0c4881-8f17-4218-b4b7-1653ebb095ac",
   "metadata": {},
   "outputs": [],
   "source": [
    "import pandas as pd\n",
    "import matplotlib.pyplot as plt"
   ]
  },
  {
   "cell_type": "markdown",
   "id": "1c2bcdd7-53b8-4e95-a2d0-931deaf7bf63",
   "metadata": {},
   "source": [
    "### Inputs"
   ]
  },
  {
   "cell_type": "code",
   "execution_count": null,
   "id": "3359745e-fe2d-44b2-a91c-80b89828faaf",
   "metadata": {},
   "outputs": [],
   "source": [
    "# Path to stats\n",
    "stats = pd.read_csv('../esp_stats.csv')\n",
    "\n",
    "# Varaible to plot (Mean Percent Bias, Correlation Coefficient, RMSE, NSE)\n",
    "variable= 'Mean Percent Bias'\n",
    "\n",
    "output_directory= '../'"
   ]
  },
  {
   "cell_type": "markdown",
   "id": "674b36c2-5d6d-49fa-8fa2-05087a051978",
   "metadata": {},
   "source": [
    "### Plot"
   ]
  },
  {
   "cell_type": "code",
   "execution_count": null,
   "id": "d1658ed9-96b8-471a-8df5-3f21bf348d48",
   "metadata": {},
   "outputs": [],
   "source": [
    "plt.figure(figsize=(12, 8))\n",
    "plt.scatter(stats['SWE_Rank'], stats[variable])\n",
    "plt.title(f'Scatter Plot of SWE_Rank vs {variable}')\n",
    "plt.xlabel('SWE_Rank')\n",
    "plt.ylabel(variable)\n",
    "plt.grid(True)\n",
    "\n",
    "# Save the plot\n",
    "plt.savefig(f\"{output_directory}{variable}_plot.png\")\n",
    "\n",
    "plt.show()"
   ]
  },
  {
   "cell_type": "code",
   "execution_count": null,
   "id": "e9a3fcc7-102c-4e47-91d8-fff2d7e8d477",
   "metadata": {},
   "outputs": [],
   "source": []
  },
  {
   "cell_type": "code",
   "execution_count": null,
   "id": "f45d4bae-f764-4173-a13b-dfb5df748a42",
   "metadata": {},
   "outputs": [],
   "source": []
  }
 ],
 "metadata": {
  "kernelspec": {
   "display_name": "Python 3 (ipykernel)",
   "language": "python",
   "name": "python3"
  },
  "language_info": {
   "codemirror_mode": {
    "name": "ipython",
    "version": 3
   },
   "file_extension": ".py",
   "mimetype": "text/x-python",
   "name": "python",
   "nbconvert_exporter": "python",
   "pygments_lexer": "ipython3",
   "version": "3.10.13"
  }
 },
 "nbformat": 4,
 "nbformat_minor": 5
}
