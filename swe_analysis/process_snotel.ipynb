{
 "cells": [
  {
   "cell_type": "markdown",
   "id": "8f7083b1-bded-46db-a5fb-b5a101b314b3",
   "metadata": {},
   "source": [
    "## Desription\n",
    "______\n",
    "This script processes Snotel data by reprojecting, trimming and adding a calendar type."
   ]
  },
  {
   "cell_type": "markdown",
   "id": "121344b2-aa51-458a-92a0-168b689aefdf",
   "metadata": {},
   "source": [
    "### Import Libraries"
   ]
  },
  {
   "cell_type": "code",
   "execution_count": null,
   "id": "29bc79ae-c660-4250-8fc5-e872744b1e14",
   "metadata": {},
   "outputs": [],
   "source": [
    "import os\n",
    "import re\n",
    "import xarray as xr\n",
    "from rasterio.warp import reproject, Resampling"
   ]
  },
  {
   "cell_type": "markdown",
   "id": "18c63dc1-e66d-48f8-957c-335471944047",
   "metadata": {},
   "source": [
    "### Inputs"
   ]
  },
  {
   "cell_type": "code",
   "execution_count": null,
   "id": "fd455b80-171a-4132-bad1-68a794a2bb49",
   "metadata": {},
   "outputs": [],
   "source": [
    "# Define the latitude and longitude bounds\n",
    "lat_min, lat_max = 47, 51\n",
    "lon_min, lon_max = -115, -108\n",
    "\n",
    "# Define input and output directories\n",
    "input_dir = './snotel/'\n",
    "output_dir = './subset_snotel/'"
   ]
  },
  {
   "cell_type": "code",
   "execution_count": null,
   "id": "37630e2d-f4d8-4ef5-8b8c-a2b154f23aa8",
   "metadata": {},
   "outputs": [],
   "source": [
    "# Define the source and target CRS \n",
    "src_crs = {\n",
    "    'proj': 'latlong',\n",
    "    'ellps': 'GRS80',\n",
    "    'datum': 'NAD83',\n",
    "    'no_defs': True\n",
    "}\n",
    "tgt_crs = 'EPSG:4326'\n",
    "\n",
    "# Define the GeoTransform\n",
    "geo_transform = (-125.0208, 0.04166662697178698, 0, 49.9375, 0, -0.04166662697178698)"
   ]
  },
  {
   "cell_type": "markdown",
   "id": "282f1655-13da-4983-883e-ed988734529a",
   "metadata": {},
   "source": [
    "### Process Snotel"
   ]
  },
  {
   "cell_type": "code",
   "execution_count": null,
   "id": "f7d598a3-39cd-4b42-a636-80948545dda0",
   "metadata": {},
   "outputs": [],
   "source": [
    "# Create the output directory if it doesn't exist\n",
    "if not os.path.exists(output_dir):\n",
    "    os.makedirs(output_dir)"
   ]
  },
  {
   "cell_type": "code",
   "execution_count": null,
   "id": "97195284-9835-4aad-82cf-9a5372a1ae76",
   "metadata": {},
   "outputs": [],
   "source": [
    "# Loop through each snotel .nc file in the input directory\n",
    "for filename in os.listdir(input_dir):\n",
    "    if filename.endswith('.nc'):\n",
    "        # Open the dataset\n",
    "        filepath = os.path.join(input_dir, filename)\n",
    "        dataset = xr.open_dataset(filepath)\n",
    "        \n",
    "        # Access the units attribute from attrs\n",
    "        units = dataset['time'].attrs.get('units', 'Attribute not found')\n",
    "        \n",
    "        # Try to extract the calendar type from the units string\n",
    "        calendar_match = re.search(r'calendar=(\\w+)', units)\n",
    "        calendar = calendar_match.group(1) if calendar_match else 'Not specified'\n",
    "        \n",
    "        print(f\"Processing file: {filename}\")\n",
    "        print(f\"The calendar type inferred from units is: {calendar}\")\n",
    "        \n",
    "        # Set the calendar attribute to \"standard\" for the time coordinate\n",
    "        dataset['time'].encoding['calendar'] = 'standard'\n",
    "        \n",
    "        # Subset the dataset based on the bounds\n",
    "        subset_dataset = dataset.sel(lat=slice(lat_min, lat_max), lon=slice(lon_min, lon_max))\n",
    "        \n",
    "        # Remove the 'time_str' variable before reprojecting\n",
    "        spatial_vars = [var for var in subset_dataset.data_vars if var != 'time_str']\n",
    "        subset_dataset = subset_dataset[spatial_vars]\n",
    "        \n",
    "        # Reproject each variable in the dataset to updated CRS\n",
    "        for var in subset_dataset.variables:\n",
    "            if 'grid_mapping' in subset_dataset[var].attrs:\n",
    "                grid_mapping = subset_dataset[var].attrs['grid_mapping']\n",
    "                if grid_mapping == 'latitude_longitude':\n",
    "                    data = subset_dataset[var].values\n",
    "                    lon = subset_dataset['longitude'].values\n",
    "                    lat = subset_dataset['latitude'].values\n",
    "\n",
    "                    # Create the source and target transform\n",
    "                    transform = rasterio.Affine.from_gdal(*geo_transform)\n",
    "                    tgt_transform = rasterio.crs.CRS.from_string(tgt_crs).to_wkt()\n",
    "\n",
    "                    # Reproject\n",
    "                    reprojected_data = np.empty_like(data)\n",
    "                    reproject(src=data, src_crs=src_crs, src_transform=transform,\n",
    "                              dst=reprojected_data, dst_crs=tgt_crs,\n",
    "                              dst_transform=transform, resampling=Resampling.nearest)\n",
    "\n",
    "                    # Update the variable with reprojected data\n",
    "                    subset_dataset[var].values = reprojected_data\n",
    "        \n",
    "        # Define the output filepath\n",
    "        output_filepath = os.path.join(output_dir, filename)\n",
    "        \n",
    "        # Save the subsetted and reprojected dataset\n",
    "        subset_dataset.to_netcdf(output_filepath)\n",
    "        \n",
    "        print(f\"Subsetted and reprojected file saved: {output_filepath}\\n\")\n",
    "        \n",
    "        # Close the dataset\n",
    "        dataset.close()"
   ]
  },
  {
   "cell_type": "code",
   "execution_count": null,
   "id": "2e812407-5e48-4f8b-a406-5f360ec8c2d2",
   "metadata": {},
   "outputs": [],
   "source": []
  }
 ],
 "metadata": {
  "kernelspec": {
   "display_name": "Python 3 (ipykernel)",
   "language": "python",
   "name": "python3"
  },
  "language_info": {
   "codemirror_mode": {
    "name": "ipython",
    "version": 3
   },
   "file_extension": ".py",
   "mimetype": "text/x-python",
   "name": "python",
   "nbconvert_exporter": "python",
   "pygments_lexer": "ipython3",
   "version": "3.10.13"
  }
 },
 "nbformat": 4,
 "nbformat_minor": 5
}
