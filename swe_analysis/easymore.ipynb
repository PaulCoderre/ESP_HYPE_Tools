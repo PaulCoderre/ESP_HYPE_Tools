{
 "cells": [
  {
   "cell_type": "markdown",
   "id": "d4bf73fc-f071-4614-b9e2-4b4c4e518d0b",
   "metadata": {},
   "source": [
    "## Description\n",
    "_____\n",
    "This script runs the EASYMORE library on the updated snotel data to remap it to the basin shapefile."
   ]
  },
  {
   "cell_type": "code",
   "execution_count": null,
   "id": "fe2d298d-bf25-4bb7-bfbc-687b6540c85c",
   "metadata": {},
   "outputs": [],
   "source": [
    "from easymore import Easymore"
   ]
  },
  {
   "cell_type": "code",
   "execution_count": null,
   "id": "708e1870-48c4-45cd-9ed0-25f6e2654aa7",
   "metadata": {},
   "outputs": [],
   "source": [
    "esmr = Easymore()"
   ]
  },
  {
   "cell_type": "code",
   "execution_count": null,
   "id": "d163e78e-5e18-420e-8280-dd7512227e0f",
   "metadata": {},
   "outputs": [],
   "source": [
    "esmr.case_name                = 'SMM_Snotel'  "
   ]
  },
  {
   "cell_type": "code",
   "execution_count": null,
   "id": "a19e2cd3-a5f0-44ab-86f3-2ce13fade0a9",
   "metadata": {},
   "outputs": [],
   "source": [
    "esmr.temp_dir                 = './easymore_temp/'"
   ]
  },
  {
   "cell_type": "code",
   "execution_count": null,
   "id": "c3e06774-9df5-430d-adff-683d633a9b1c",
   "metadata": {},
   "outputs": [],
   "source": [
    "esmr.target_shp               = './validated_shapefile/HYPE_validated_shapefile.shp'"
   ]
  },
  {
   "cell_type": "code",
   "execution_count": null,
   "id": "8aa4d279-2942-4bc6-a5d0-04045c0c9c9e",
   "metadata": {},
   "outputs": [],
   "source": [
    "esmr.target_shp_ID            = 'hru_nhm' "
   ]
  },
  {
   "cell_type": "code",
   "execution_count": null,
   "id": "64973d4e-b398-44af-b09e-e06717858276",
   "metadata": {},
   "outputs": [],
   "source": [
    "esmr.source_nc                = './subset_snotel/*.nc'"
   ]
  },
  {
   "cell_type": "code",
   "execution_count": null,
   "id": "ac839302-8158-4e31-88fb-e85cee7bfdf9",
   "metadata": {},
   "outputs": [],
   "source": [
    "esmr.var_names                = ['SWE']"
   ]
  },
  {
   "cell_type": "code",
   "execution_count": null,
   "id": "9ed90901-657d-42ae-8ed1-157d15d48cd4",
   "metadata": {},
   "outputs": [],
   "source": [
    "esmr.var_names_remapped       = ['swe']"
   ]
  },
  {
   "cell_type": "code",
   "execution_count": null,
   "id": "2281575b-ecde-4d85-b231-aa966e4d1952",
   "metadata": {},
   "outputs": [],
   "source": [
    "esmr.var_lon                  = 'lon'"
   ]
  },
  {
   "cell_type": "code",
   "execution_count": null,
   "id": "f3eae42e-29ed-4d71-b434-0e45edbe465f",
   "metadata": {},
   "outputs": [],
   "source": [
    "esmr.var_lat                  = 'lat'"
   ]
  },
  {
   "cell_type": "code",
   "execution_count": null,
   "id": "10a94b1b-14c0-4b45-93f6-b4d575d5ec83",
   "metadata": {},
   "outputs": [],
   "source": [
    "esmr.var_time                 = 'time'"
   ]
  },
  {
   "cell_type": "code",
   "execution_count": null,
   "id": "409b95f9-26cb-4e35-83b5-187714aecdee",
   "metadata": {},
   "outputs": [],
   "source": [
    "esmr.output_dir               = './easymore_snotel/'"
   ]
  },
  {
   "cell_type": "code",
   "execution_count": null,
   "id": "b408733c-8efa-4f54-99fd-7155560e45c8",
   "metadata": {},
   "outputs": [],
   "source": [
    "esmr.format_list              = ['f4']"
   ]
  },
  {
   "cell_type": "code",
   "execution_count": null,
   "id": "3c0cad7a-5de6-4bcd-9538-a682fe0c7da1",
   "metadata": {},
   "outputs": [],
   "source": [
    "esmr.fill_value_list          = ['-9999.00']"
   ]
  },
  {
   "cell_type": "code",
   "execution_count": null,
   "id": "00a3980f-e1ac-4d23-b365-874486286fad",
   "metadata": {},
   "outputs": [],
   "source": [
    "esmr.save_csv                 = True"
   ]
  },
  {
   "cell_type": "code",
   "execution_count": null,
   "id": "4ef7303d-84ba-48cd-aa11-3d18e74a2b97",
   "metadata": {},
   "outputs": [],
   "source": [
    "esmr.nc_remapper()"
   ]
  },
  {
   "cell_type": "code",
   "execution_count": null,
   "id": "469bdca1-5d0b-4c18-a1ee-63c5fda52276",
   "metadata": {},
   "outputs": [],
   "source": []
  }
 ],
 "metadata": {
  "kernelspec": {
   "display_name": "Python 3 (ipykernel)",
   "language": "python",
   "name": "python3"
  },
  "language_info": {
   "codemirror_mode": {
    "name": "ipython",
    "version": 3
   },
   "file_extension": ".py",
   "mimetype": "text/x-python",
   "name": "python",
   "nbconvert_exporter": "python",
   "pygments_lexer": "ipython3",
   "version": "3.10.13"
  }
 },
 "nbformat": 4,
 "nbformat_minor": 5
}
