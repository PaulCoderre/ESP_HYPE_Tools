{
 "cells": [
  {
   "cell_type": "code",
   "execution_count": 1,
   "id": "fe2d298d-bf25-4bb7-bfbc-687b6540c85c",
   "metadata": {},
   "outputs": [],
   "source": [
    "from easymore import Easymore"
   ]
  },
  {
   "cell_type": "code",
   "execution_count": 2,
   "id": "708e1870-48c4-45cd-9ed0-25f6e2654aa7",
   "metadata": {},
   "outputs": [
    {
     "name": "stdout",
     "output_type": "stream",
     "text": [
      "EASYMORE version 2.0.0 is initiated.\n"
     ]
    }
   ],
   "source": [
    "esmr = Easymore()"
   ]
  },
  {
   "cell_type": "code",
   "execution_count": 3,
   "id": "d163e78e-5e18-420e-8280-dd7512227e0f",
   "metadata": {},
   "outputs": [],
   "source": [
    "esmr.case_name                = 'SMM_Snotel'  "
   ]
  },
  {
   "cell_type": "code",
   "execution_count": 4,
   "id": "a19e2cd3-a5f0-44ab-86f3-2ce13fade0a9",
   "metadata": {},
   "outputs": [],
   "source": [
    "esmr.temp_dir                 = './easymore_temp/'"
   ]
  },
  {
   "cell_type": "code",
   "execution_count": 5,
   "id": "c3e06774-9df5-430d-adff-683d633a9b1c",
   "metadata": {},
   "outputs": [],
   "source": [
    "esmr.target_shp               = './validated_shapefile/HYPE_validated_shapefile.shp'"
   ]
  },
  {
   "cell_type": "code",
   "execution_count": 6,
   "id": "8aa4d279-2942-4bc6-a5d0-04045c0c9c9e",
   "metadata": {},
   "outputs": [],
   "source": [
    "esmr.target_shp_ID            = 'hru_nhm' "
   ]
  },
  {
   "cell_type": "code",
   "execution_count": 7,
   "id": "64973d4e-b398-44af-b09e-e06717858276",
   "metadata": {},
   "outputs": [],
   "source": [
    "esmr.source_nc                = './subset_snotel/*.nc'"
   ]
  },
  {
   "cell_type": "code",
   "execution_count": 8,
   "id": "ac839302-8158-4e31-88fb-e85cee7bfdf9",
   "metadata": {},
   "outputs": [],
   "source": [
    "esmr.var_names                = ['SWE']"
   ]
  },
  {
   "cell_type": "code",
   "execution_count": 9,
   "id": "9ed90901-657d-42ae-8ed1-157d15d48cd4",
   "metadata": {},
   "outputs": [],
   "source": [
    "esmr.var_names_remapped       = ['swe']"
   ]
  },
  {
   "cell_type": "code",
   "execution_count": 10,
   "id": "2281575b-ecde-4d85-b231-aa966e4d1952",
   "metadata": {},
   "outputs": [],
   "source": [
    "esmr.var_lon                  = 'lon'"
   ]
  },
  {
   "cell_type": "code",
   "execution_count": 11,
   "id": "f3eae42e-29ed-4d71-b434-0e45edbe465f",
   "metadata": {},
   "outputs": [],
   "source": [
    "esmr.var_lat                  = 'lat'"
   ]
  },
  {
   "cell_type": "code",
   "execution_count": 12,
   "id": "10a94b1b-14c0-4b45-93f6-b4d575d5ec83",
   "metadata": {},
   "outputs": [],
   "source": [
    "esmr.var_time                 = 'time'"
   ]
  },
  {
   "cell_type": "code",
   "execution_count": 13,
   "id": "409b95f9-26cb-4e35-83b5-187714aecdee",
   "metadata": {},
   "outputs": [],
   "source": [
    "esmr.output_dir               = './easymore_snotel/'"
   ]
  },
  {
   "cell_type": "code",
   "execution_count": 14,
   "id": "b408733c-8efa-4f54-99fd-7155560e45c8",
   "metadata": {},
   "outputs": [],
   "source": [
    "esmr.format_list              = ['f4']"
   ]
  },
  {
   "cell_type": "code",
   "execution_count": 15,
   "id": "3c0cad7a-5de6-4bcd-9538-a682fe0c7da1",
   "metadata": {},
   "outputs": [],
   "source": [
    "esmr.fill_value_list          = ['-9999.00']"
   ]
  },
  {
   "cell_type": "code",
   "execution_count": 16,
   "id": "00a3980f-e1ac-4d23-b365-874486286fad",
   "metadata": {},
   "outputs": [],
   "source": [
    "esmr.save_csv                 = True"
   ]
  },
  {
   "cell_type": "code",
   "execution_count": 17,
   "id": "4ef7303d-84ba-48cd-aa11-3d18e74a2b97",
   "metadata": {},
   "outputs": [
    {
     "name": "stdout",
     "output_type": "stream",
     "text": [
      "no author name is provided.\n",
      "EASYMORE will remap variable  SWE  from source file to variable  swe  in remapped netCDF file\n",
      "EASYMORE detects that the variables from the netCDF files are identicalin dimensions of the variables and latitude and longitude\n",
      "EASYMORE detects that all the variables have dimensions of:\n",
      "['time', 'lat', 'lon']\n",
      "EASYMORE detects that the longitude variables has dimensions of:\n",
      "['lon']\n",
      "EASYMORE detects that the latitude variables has dimensions of:\n",
      "['lat']\n",
      "--CREATING-REMAPPING-FILE--\n",
      "Started at date and time 2024-04-22 15:59:38.596826\n",
      "EASYMORE detects that target shapefile is in WGS84 (epsg:4326)\n",
      "EASYMORE detects that the field for ID is provided in sink/target shapefile\n",
      "EASYMORE detects that either of the fields for latitude or longitude is not provided in sink/target shapefile\n",
      "calculating centroid of shapes in WGS84 projection;\n",
      "for better appximation use the easymore equal area centroid function to preprocess target shapefile\n",
      "EASYMORE detects that no field for latitude is provided in sink/target shapefile\n",
      "latitude values are added in the field lat_t\n",
      "EASYMORE detects that no field for longitude is provided in sink/target shapefile\n",
      "longitude values are added in the field lon_t\n",
      "it seems everything is OK with the sink/target shapefile; added to EASYMORE object target_shp_gpd\n",
      "EASYMORE saved target shapefile for EASYMORE claculation as:\n",
      "./easymore_temp/SMM_Snotel_target_shapefile.shp\n",
      "EASYMORE detects case 1 - regular lat/lon\n",
      "./easymore_temp/SMM_Snotel_source_shapefile.shp\n",
      "EASYMORE created the shapefile from the netCDF file and saved it here:\n",
      "EASMORE detects that target shapefile is outside the boundary of source netCDF file  and therefore correction for longitude values -180 to 180 or 0 to 360 if correction_shp_lon  flag is set to True [default is True]\n",
      "correcting target shapefile\n",
      "correcting source shapefile\n"
     ]
    },
    {
     "name": "stderr",
     "output_type": "stream",
     "text": [
      "C:\\Users\\Paul Coderre\\anaconda3\\lib\\site-packages\\easymore\\remapper.py:521: UserWarning: Column names longer than 10 characters will be truncated when saved to ESRI Shapefile.\n",
      "  shp_int.to_file(self.temp_dir+self.case_name+'_intersected_shapefile.shp') # save the intersected files\n"
     ]
    },
    {
     "name": "stdout",
     "output_type": "stream",
     "text": [
      "Warning: There are shapes that are outside the boundaries of the provided netCDF file. The IDs of thoseshapes are saved in: \n",
      "./easymore_temp/SMM_Snotel_ID_not_intersected.txt\n",
      "Warning: There are shapes that are outside the boundaries of the provided netCDF file. Those shapes this will reduce the speed of remapping of the source to remaped netCDF file to increase the speed you should make sure that target shapefile is within the boundary of provided netCDF file or set the easymore flag of skip_outside_shape to True.this flag ensures the shapes that are outside of the netCDF domain are not transfered as nan to remapped netCDF files\n"
     ]
    },
    {
     "name": "stderr",
     "output_type": "stream",
     "text": [
      "C:\\Users\\Paul Coderre\\anaconda3\\lib\\site-packages\\easymore\\remapper.py:558: PendingDeprecationWarning: dropping variables using `drop` will be deprecated; using drop_vars is encouraged.\n",
      "  attr = attr.drop('index')\n"
     ]
    },
    {
     "name": "stdout",
     "output_type": "stream",
     "text": [
      "Ended at date and time 2024-04-22 16:02:02.588552\n",
      "It took 143.991726 seconds to finish creating of the remapping file\n",
      "---------------------------\n",
      "------REMAPPING------\n",
      "netcdf output file will be compressed at level 4\n",
      "Remapping ./subset_snotel\\4km_SWE_Depth_WY1982_v01.nc to ./easymore_snotel/SMM_Snotel_remapped_4km_SWE_Depth_WY1982_v01.nc \n",
      "Started at date and time 2024-04-22 16:02:04.119201 \n",
      "Converting variable swe from remapped file of ./easymore_snotel/SMM_Snotel_remapped_4km_SWE_Depth_WY1982_v01.nc to ./easymore_snotel/SMM_Snotel_remapped_swe_millimetersh20_4km_SWE_Depth_WY1982_v01.nc.csv \n",
      "Saving the ID, lat, lon map at ./easymore_snotel/SMM_Snotel_remapped_swe_millimetersh20_4km_SWE_Depth_WY1982_v01.nc.csv \n",
      "Ended at date and time 2024-04-22 16:02:18.543992 \n",
      "It took 14.424791 seconds to finish the remapping of variable(s) \n",
      "---------------------\n",
      "Remapping ./subset_snotel\\4km_SWE_Depth_WY1983_v01.nc to ./easymore_snotel/SMM_Snotel_remapped_4km_SWE_Depth_WY1983_v01.nc \n",
      "Started at date and time 2024-04-22 16:02:18.553994 \n",
      "Converting variable swe from remapped file of ./easymore_snotel/SMM_Snotel_remapped_4km_SWE_Depth_WY1983_v01.nc to ./easymore_snotel/SMM_Snotel_remapped_swe_millimetersh20_4km_SWE_Depth_WY1983_v01.nc.csv \n",
      "Saving the ID, lat, lon map at ./easymore_snotel/SMM_Snotel_remapped_swe_millimetersh20_4km_SWE_Depth_WY1983_v01.nc.csv \n",
      "Ended at date and time 2024-04-22 16:02:33.840226 \n",
      "It took 15.286232 seconds to finish the remapping of variable(s) \n",
      "---------------------\n",
      "Remapping ./subset_snotel\\4km_SWE_Depth_WY1984_v01.nc to ./easymore_snotel/SMM_Snotel_remapped_4km_SWE_Depth_WY1984_v01.nc \n",
      "Started at date and time 2024-04-22 16:02:33.858363 \n",
      "Converting variable swe from remapped file of ./easymore_snotel/SMM_Snotel_remapped_4km_SWE_Depth_WY1984_v01.nc to ./easymore_snotel/SMM_Snotel_remapped_swe_millimetersh20_4km_SWE_Depth_WY1984_v01.nc.csv \n",
      "Saving the ID, lat, lon map at ./easymore_snotel/SMM_Snotel_remapped_swe_millimetersh20_4km_SWE_Depth_WY1984_v01.nc.csv \n",
      "Ended at date and time 2024-04-22 16:02:49.684338 \n",
      "It took 15.825975 seconds to finish the remapping of variable(s) \n",
      "---------------------\n",
      "Remapping ./subset_snotel\\4km_SWE_Depth_WY1985_v01.nc to ./easymore_snotel/SMM_Snotel_remapped_4km_SWE_Depth_WY1985_v01.nc \n",
      "Started at date and time 2024-04-22 16:02:49.690345 \n",
      "Converting variable swe from remapped file of ./easymore_snotel/SMM_Snotel_remapped_4km_SWE_Depth_WY1985_v01.nc to ./easymore_snotel/SMM_Snotel_remapped_swe_millimetersh20_4km_SWE_Depth_WY1985_v01.nc.csv \n",
      "Saving the ID, lat, lon map at ./easymore_snotel/SMM_Snotel_remapped_swe_millimetersh20_4km_SWE_Depth_WY1985_v01.nc.csv \n",
      "Ended at date and time 2024-04-22 16:03:05.377014 \n",
      "It took 15.686669 seconds to finish the remapping of variable(s) \n",
      "---------------------\n",
      "Remapping ./subset_snotel\\4km_SWE_Depth_WY1986_v01.nc to ./easymore_snotel/SMM_Snotel_remapped_4km_SWE_Depth_WY1986_v01.nc \n",
      "Started at date and time 2024-04-22 16:03:05.382915 \n",
      "Converting variable swe from remapped file of ./easymore_snotel/SMM_Snotel_remapped_4km_SWE_Depth_WY1986_v01.nc to ./easymore_snotel/SMM_Snotel_remapped_swe_millimetersh20_4km_SWE_Depth_WY1986_v01.nc.csv \n",
      "Saving the ID, lat, lon map at ./easymore_snotel/SMM_Snotel_remapped_swe_millimetersh20_4km_SWE_Depth_WY1986_v01.nc.csv \n",
      "Ended at date and time 2024-04-22 16:03:19.156534 \n",
      "It took 13.773619 seconds to finish the remapping of variable(s) \n",
      "---------------------\n",
      "Remapping ./subset_snotel\\4km_SWE_Depth_WY1987_v01.nc to ./easymore_snotel/SMM_Snotel_remapped_4km_SWE_Depth_WY1987_v01.nc \n",
      "Started at date and time 2024-04-22 16:03:19.161543 \n",
      "Converting variable swe from remapped file of ./easymore_snotel/SMM_Snotel_remapped_4km_SWE_Depth_WY1987_v01.nc to ./easymore_snotel/SMM_Snotel_remapped_swe_millimetersh20_4km_SWE_Depth_WY1987_v01.nc.csv \n",
      "Saving the ID, lat, lon map at ./easymore_snotel/SMM_Snotel_remapped_swe_millimetersh20_4km_SWE_Depth_WY1987_v01.nc.csv \n",
      "Ended at date and time 2024-04-22 16:03:33.296473 \n",
      "It took 14.13493 seconds to finish the remapping of variable(s) \n",
      "---------------------\n",
      "Remapping ./subset_snotel\\4km_SWE_Depth_WY1988_v01.nc to ./easymore_snotel/SMM_Snotel_remapped_4km_SWE_Depth_WY1988_v01.nc \n",
      "Started at date and time 2024-04-22 16:03:33.304465 \n",
      "Converting variable swe from remapped file of ./easymore_snotel/SMM_Snotel_remapped_4km_SWE_Depth_WY1988_v01.nc to ./easymore_snotel/SMM_Snotel_remapped_swe_millimetersh20_4km_SWE_Depth_WY1988_v01.nc.csv \n",
      "Saving the ID, lat, lon map at ./easymore_snotel/SMM_Snotel_remapped_swe_millimetersh20_4km_SWE_Depth_WY1988_v01.nc.csv \n",
      "Ended at date and time 2024-04-22 16:03:46.359458 \n",
      "It took 13.054993 seconds to finish the remapping of variable(s) \n",
      "---------------------\n",
      "Remapping ./subset_snotel\\4km_SWE_Depth_WY1989_v01.nc to ./easymore_snotel/SMM_Snotel_remapped_4km_SWE_Depth_WY1989_v01.nc \n",
      "Started at date and time 2024-04-22 16:03:46.364476 \n",
      "Converting variable swe from remapped file of ./easymore_snotel/SMM_Snotel_remapped_4km_SWE_Depth_WY1989_v01.nc to ./easymore_snotel/SMM_Snotel_remapped_swe_millimetersh20_4km_SWE_Depth_WY1989_v01.nc.csv \n",
      "Saving the ID, lat, lon map at ./easymore_snotel/SMM_Snotel_remapped_swe_millimetersh20_4km_SWE_Depth_WY1989_v01.nc.csv \n",
      "Ended at date and time 2024-04-22 16:03:58.906740 \n",
      "It took 12.542264 seconds to finish the remapping of variable(s) \n",
      "---------------------\n",
      "Remapping ./subset_snotel\\4km_SWE_Depth_WY1990_v01.nc to ./easymore_snotel/SMM_Snotel_remapped_4km_SWE_Depth_WY1990_v01.nc \n",
      "Started at date and time 2024-04-22 16:03:58.911735 \n",
      "Converting variable swe from remapped file of ./easymore_snotel/SMM_Snotel_remapped_4km_SWE_Depth_WY1990_v01.nc to ./easymore_snotel/SMM_Snotel_remapped_swe_millimetersh20_4km_SWE_Depth_WY1990_v01.nc.csv \n",
      "Saving the ID, lat, lon map at ./easymore_snotel/SMM_Snotel_remapped_swe_millimetersh20_4km_SWE_Depth_WY1990_v01.nc.csv \n",
      "Ended at date and time 2024-04-22 16:04:11.273689 \n",
      "It took 12.361954 seconds to finish the remapping of variable(s) \n",
      "---------------------\n",
      "Remapping ./subset_snotel\\4km_SWE_Depth_WY1991_v01.nc to ./easymore_snotel/SMM_Snotel_remapped_4km_SWE_Depth_WY1991_v01.nc \n",
      "Started at date and time 2024-04-22 16:04:11.278701 \n",
      "Converting variable swe from remapped file of ./easymore_snotel/SMM_Snotel_remapped_4km_SWE_Depth_WY1991_v01.nc to ./easymore_snotel/SMM_Snotel_remapped_swe_millimetersh20_4km_SWE_Depth_WY1991_v01.nc.csv \n",
      "Saving the ID, lat, lon map at ./easymore_snotel/SMM_Snotel_remapped_swe_millimetersh20_4km_SWE_Depth_WY1991_v01.nc.csv \n",
      "Ended at date and time 2024-04-22 16:04:23.913831 \n",
      "It took 12.63513 seconds to finish the remapping of variable(s) \n",
      "---------------------\n",
      "Remapping ./subset_snotel\\4km_SWE_Depth_WY1992_v01.nc to ./easymore_snotel/SMM_Snotel_remapped_4km_SWE_Depth_WY1992_v01.nc \n",
      "Started at date and time 2024-04-22 16:04:23.918847 \n",
      "Converting variable swe from remapped file of ./easymore_snotel/SMM_Snotel_remapped_4km_SWE_Depth_WY1992_v01.nc to ./easymore_snotel/SMM_Snotel_remapped_swe_millimetersh20_4km_SWE_Depth_WY1992_v01.nc.csv \n",
      "Saving the ID, lat, lon map at ./easymore_snotel/SMM_Snotel_remapped_swe_millimetersh20_4km_SWE_Depth_WY1992_v01.nc.csv \n",
      "Ended at date and time 2024-04-22 16:04:37.197860 \n",
      "It took 13.279013 seconds to finish the remapping of variable(s) \n",
      "---------------------\n",
      "Remapping ./subset_snotel\\4km_SWE_Depth_WY1993_v01.nc to ./easymore_snotel/SMM_Snotel_remapped_4km_SWE_Depth_WY1993_v01.nc \n",
      "Started at date and time 2024-04-22 16:04:37.203866 \n",
      "Converting variable swe from remapped file of ./easymore_snotel/SMM_Snotel_remapped_4km_SWE_Depth_WY1993_v01.nc to ./easymore_snotel/SMM_Snotel_remapped_swe_millimetersh20_4km_SWE_Depth_WY1993_v01.nc.csv \n",
      "Saving the ID, lat, lon map at ./easymore_snotel/SMM_Snotel_remapped_swe_millimetersh20_4km_SWE_Depth_WY1993_v01.nc.csv \n",
      "Ended at date and time 2024-04-22 16:04:49.768425 \n",
      "It took 12.564559 seconds to finish the remapping of variable(s) \n",
      "---------------------\n",
      "Remapping ./subset_snotel\\4km_SWE_Depth_WY1994_v01.nc to ./easymore_snotel/SMM_Snotel_remapped_4km_SWE_Depth_WY1994_v01.nc \n",
      "Started at date and time 2024-04-22 16:04:49.790200 \n",
      "Converting variable swe from remapped file of ./easymore_snotel/SMM_Snotel_remapped_4km_SWE_Depth_WY1994_v01.nc to ./easymore_snotel/SMM_Snotel_remapped_swe_millimetersh20_4km_SWE_Depth_WY1994_v01.nc.csv \n",
      "Saving the ID, lat, lon map at ./easymore_snotel/SMM_Snotel_remapped_swe_millimetersh20_4km_SWE_Depth_WY1994_v01.nc.csv \n",
      "Ended at date and time 2024-04-22 16:05:03.866990 \n",
      "It took 14.07679 seconds to finish the remapping of variable(s) \n",
      "---------------------\n",
      "Remapping ./subset_snotel\\4km_SWE_Depth_WY1995_v01.nc to ./easymore_snotel/SMM_Snotel_remapped_4km_SWE_Depth_WY1995_v01.nc \n",
      "Started at date and time 2024-04-22 16:05:03.872037 \n",
      "Converting variable swe from remapped file of ./easymore_snotel/SMM_Snotel_remapped_4km_SWE_Depth_WY1995_v01.nc to ./easymore_snotel/SMM_Snotel_remapped_swe_millimetersh20_4km_SWE_Depth_WY1995_v01.nc.csv \n",
      "Saving the ID, lat, lon map at ./easymore_snotel/SMM_Snotel_remapped_swe_millimetersh20_4km_SWE_Depth_WY1995_v01.nc.csv \n",
      "Ended at date and time 2024-04-22 16:05:17.181437 \n",
      "It took 13.3094 seconds to finish the remapping of variable(s) \n",
      "---------------------\n",
      "Remapping ./subset_snotel\\4km_SWE_Depth_WY1996_v01.nc to ./easymore_snotel/SMM_Snotel_remapped_4km_SWE_Depth_WY1996_v01.nc \n",
      "Started at date and time 2024-04-22 16:05:17.186437 \n",
      "Converting variable swe from remapped file of ./easymore_snotel/SMM_Snotel_remapped_4km_SWE_Depth_WY1996_v01.nc to ./easymore_snotel/SMM_Snotel_remapped_swe_millimetersh20_4km_SWE_Depth_WY1996_v01.nc.csv \n",
      "Saving the ID, lat, lon map at ./easymore_snotel/SMM_Snotel_remapped_swe_millimetersh20_4km_SWE_Depth_WY1996_v01.nc.csv \n",
      "Ended at date and time 2024-04-22 16:05:31.842806 \n",
      "It took 14.656369 seconds to finish the remapping of variable(s) \n",
      "---------------------\n",
      "Remapping ./subset_snotel\\4km_SWE_Depth_WY1997_v01.nc to ./easymore_snotel/SMM_Snotel_remapped_4km_SWE_Depth_WY1997_v01.nc \n",
      "Started at date and time 2024-04-22 16:05:31.847824 \n",
      "Converting variable swe from remapped file of ./easymore_snotel/SMM_Snotel_remapped_4km_SWE_Depth_WY1997_v01.nc to ./easymore_snotel/SMM_Snotel_remapped_swe_millimetersh20_4km_SWE_Depth_WY1997_v01.nc.csv \n",
      "Saving the ID, lat, lon map at ./easymore_snotel/SMM_Snotel_remapped_swe_millimetersh20_4km_SWE_Depth_WY1997_v01.nc.csv \n",
      "Ended at date and time 2024-04-22 16:05:45.225810 \n",
      "It took 13.377986 seconds to finish the remapping of variable(s) \n",
      "---------------------\n",
      "Remapping ./subset_snotel\\4km_SWE_Depth_WY1998_v01.nc to ./easymore_snotel/SMM_Snotel_remapped_4km_SWE_Depth_WY1998_v01.nc \n",
      "Started at date and time 2024-04-22 16:05:45.230810 \n",
      "Converting variable swe from remapped file of ./easymore_snotel/SMM_Snotel_remapped_4km_SWE_Depth_WY1998_v01.nc to ./easymore_snotel/SMM_Snotel_remapped_swe_millimetersh20_4km_SWE_Depth_WY1998_v01.nc.csv \n",
      "Saving the ID, lat, lon map at ./easymore_snotel/SMM_Snotel_remapped_swe_millimetersh20_4km_SWE_Depth_WY1998_v01.nc.csv \n",
      "Ended at date and time 2024-04-22 16:05:58.777053 \n",
      "It took 13.546243 seconds to finish the remapping of variable(s) \n",
      "---------------------\n",
      "Remapping ./subset_snotel\\4km_SWE_Depth_WY1999_v01.nc to ./easymore_snotel/SMM_Snotel_remapped_4km_SWE_Depth_WY1999_v01.nc \n",
      "Started at date and time 2024-04-22 16:05:58.782062 \n",
      "Converting variable swe from remapped file of ./easymore_snotel/SMM_Snotel_remapped_4km_SWE_Depth_WY1999_v01.nc to ./easymore_snotel/SMM_Snotel_remapped_swe_millimetersh20_4km_SWE_Depth_WY1999_v01.nc.csv \n",
      "Saving the ID, lat, lon map at ./easymore_snotel/SMM_Snotel_remapped_swe_millimetersh20_4km_SWE_Depth_WY1999_v01.nc.csv \n",
      "Ended at date and time 2024-04-22 16:06:11.156256 \n",
      "It took 12.374194 seconds to finish the remapping of variable(s) \n",
      "---------------------\n",
      "Remapping ./subset_snotel\\4km_SWE_Depth_WY2000_v01.nc to ./easymore_snotel/SMM_Snotel_remapped_4km_SWE_Depth_WY2000_v01.nc \n",
      "Started at date and time 2024-04-22 16:06:11.160004 \n",
      "Converting variable swe from remapped file of ./easymore_snotel/SMM_Snotel_remapped_4km_SWE_Depth_WY2000_v01.nc to ./easymore_snotel/SMM_Snotel_remapped_swe_millimetersh20_4km_SWE_Depth_WY2000_v01.nc.csv \n",
      "Saving the ID, lat, lon map at ./easymore_snotel/SMM_Snotel_remapped_swe_millimetersh20_4km_SWE_Depth_WY2000_v01.nc.csv \n",
      "Ended at date and time 2024-04-22 16:06:25.641718 \n",
      "It took 14.481714 seconds to finish the remapping of variable(s) \n",
      "---------------------\n",
      "Remapping ./subset_snotel\\4km_SWE_Depth_WY2001_v01.nc to ./easymore_snotel/SMM_Snotel_remapped_4km_SWE_Depth_WY2001_v01.nc \n",
      "Started at date and time 2024-04-22 16:06:25.646717 \n",
      "Converting variable swe from remapped file of ./easymore_snotel/SMM_Snotel_remapped_4km_SWE_Depth_WY2001_v01.nc to ./easymore_snotel/SMM_Snotel_remapped_swe_millimetersh20_4km_SWE_Depth_WY2001_v01.nc.csv \n",
      "Saving the ID, lat, lon map at ./easymore_snotel/SMM_Snotel_remapped_swe_millimetersh20_4km_SWE_Depth_WY2001_v01.nc.csv \n",
      "Ended at date and time 2024-04-22 16:06:40.894268 \n",
      "It took 15.247551 seconds to finish the remapping of variable(s) \n",
      "---------------------\n",
      "Remapping ./subset_snotel\\4km_SWE_Depth_WY2002_v01.nc to ./easymore_snotel/SMM_Snotel_remapped_4km_SWE_Depth_WY2002_v01.nc \n",
      "Started at date and time 2024-04-22 16:06:40.901159 \n",
      "Converting variable swe from remapped file of ./easymore_snotel/SMM_Snotel_remapped_4km_SWE_Depth_WY2002_v01.nc to ./easymore_snotel/SMM_Snotel_remapped_swe_millimetersh20_4km_SWE_Depth_WY2002_v01.nc.csv \n",
      "Saving the ID, lat, lon map at ./easymore_snotel/SMM_Snotel_remapped_swe_millimetersh20_4km_SWE_Depth_WY2002_v01.nc.csv \n",
      "Ended at date and time 2024-04-22 16:06:56.291135 \n",
      "It took 15.389976 seconds to finish the remapping of variable(s) \n",
      "---------------------\n",
      "Remapping ./subset_snotel\\4km_SWE_Depth_WY2003_v01.nc to ./easymore_snotel/SMM_Snotel_remapped_4km_SWE_Depth_WY2003_v01.nc \n",
      "Started at date and time 2024-04-22 16:06:56.296134 \n",
      "Converting variable swe from remapped file of ./easymore_snotel/SMM_Snotel_remapped_4km_SWE_Depth_WY2003_v01.nc to ./easymore_snotel/SMM_Snotel_remapped_swe_millimetersh20_4km_SWE_Depth_WY2003_v01.nc.csv \n",
      "Saving the ID, lat, lon map at ./easymore_snotel/SMM_Snotel_remapped_swe_millimetersh20_4km_SWE_Depth_WY2003_v01.nc.csv \n",
      "Ended at date and time 2024-04-22 16:07:11.138370 \n",
      "It took 14.842236 seconds to finish the remapping of variable(s) \n",
      "---------------------\n",
      "Remapping ./subset_snotel\\4km_SWE_Depth_WY2004_v01.nc to ./easymore_snotel/SMM_Snotel_remapped_4km_SWE_Depth_WY2004_v01.nc \n",
      "Started at date and time 2024-04-22 16:07:11.143351 \n",
      "Converting variable swe from remapped file of ./easymore_snotel/SMM_Snotel_remapped_4km_SWE_Depth_WY2004_v01.nc to ./easymore_snotel/SMM_Snotel_remapped_swe_millimetersh20_4km_SWE_Depth_WY2004_v01.nc.csv \n",
      "Saving the ID, lat, lon map at ./easymore_snotel/SMM_Snotel_remapped_swe_millimetersh20_4km_SWE_Depth_WY2004_v01.nc.csv \n",
      "Ended at date and time 2024-04-22 16:07:25.747802 \n",
      "It took 14.604451 seconds to finish the remapping of variable(s) \n",
      "---------------------\n",
      "Remapping ./subset_snotel\\4km_SWE_Depth_WY2005_v01.nc to ./easymore_snotel/SMM_Snotel_remapped_4km_SWE_Depth_WY2005_v01.nc \n",
      "Started at date and time 2024-04-22 16:07:25.751928 \n",
      "Converting variable swe from remapped file of ./easymore_snotel/SMM_Snotel_remapped_4km_SWE_Depth_WY2005_v01.nc to ./easymore_snotel/SMM_Snotel_remapped_swe_millimetersh20_4km_SWE_Depth_WY2005_v01.nc.csv \n",
      "Saving the ID, lat, lon map at ./easymore_snotel/SMM_Snotel_remapped_swe_millimetersh20_4km_SWE_Depth_WY2005_v01.nc.csv \n",
      "Ended at date and time 2024-04-22 16:07:40.291479 \n",
      "It took 14.539551 seconds to finish the remapping of variable(s) \n",
      "---------------------\n",
      "Remapping ./subset_snotel\\4km_SWE_Depth_WY2006_v01.nc to ./easymore_snotel/SMM_Snotel_remapped_4km_SWE_Depth_WY2006_v01.nc \n",
      "Started at date and time 2024-04-22 16:07:40.296484 \n",
      "Converting variable swe from remapped file of ./easymore_snotel/SMM_Snotel_remapped_4km_SWE_Depth_WY2006_v01.nc to ./easymore_snotel/SMM_Snotel_remapped_swe_millimetersh20_4km_SWE_Depth_WY2006_v01.nc.csv \n",
      "Saving the ID, lat, lon map at ./easymore_snotel/SMM_Snotel_remapped_swe_millimetersh20_4km_SWE_Depth_WY2006_v01.nc.csv \n",
      "Ended at date and time 2024-04-22 16:07:52.871341 \n",
      "It took 12.574857 seconds to finish the remapping of variable(s) \n",
      "---------------------\n",
      "Remapping ./subset_snotel\\4km_SWE_Depth_WY2007_v01.nc to ./easymore_snotel/SMM_Snotel_remapped_4km_SWE_Depth_WY2007_v01.nc \n",
      "Started at date and time 2024-04-22 16:07:52.876340 \n",
      "Converting variable swe from remapped file of ./easymore_snotel/SMM_Snotel_remapped_4km_SWE_Depth_WY2007_v01.nc to ./easymore_snotel/SMM_Snotel_remapped_swe_millimetersh20_4km_SWE_Depth_WY2007_v01.nc.csv \n",
      "Saving the ID, lat, lon map at ./easymore_snotel/SMM_Snotel_remapped_swe_millimetersh20_4km_SWE_Depth_WY2007_v01.nc.csv \n",
      "Ended at date and time 2024-04-22 16:08:07.405727 \n",
      "It took 14.529387 seconds to finish the remapping of variable(s) \n",
      "---------------------\n",
      "Remapping ./subset_snotel\\4km_SWE_Depth_WY2008_v01.nc to ./easymore_snotel/SMM_Snotel_remapped_4km_SWE_Depth_WY2008_v01.nc \n",
      "Started at date and time 2024-04-22 16:08:07.410723 \n",
      "Converting variable swe from remapped file of ./easymore_snotel/SMM_Snotel_remapped_4km_SWE_Depth_WY2008_v01.nc to ./easymore_snotel/SMM_Snotel_remapped_swe_millimetersh20_4km_SWE_Depth_WY2008_v01.nc.csv \n",
      "Saving the ID, lat, lon map at ./easymore_snotel/SMM_Snotel_remapped_swe_millimetersh20_4km_SWE_Depth_WY2008_v01.nc.csv \n",
      "Ended at date and time 2024-04-22 16:08:21.532709 \n",
      "It took 14.121986 seconds to finish the remapping of variable(s) \n",
      "---------------------\n",
      "Remapping ./subset_snotel\\4km_SWE_Depth_WY2009_v01.nc to ./easymore_snotel/SMM_Snotel_remapped_4km_SWE_Depth_WY2009_v01.nc \n",
      "Started at date and time 2024-04-22 16:08:21.546704 \n",
      "Converting variable swe from remapped file of ./easymore_snotel/SMM_Snotel_remapped_4km_SWE_Depth_WY2009_v01.nc to ./easymore_snotel/SMM_Snotel_remapped_swe_millimetersh20_4km_SWE_Depth_WY2009_v01.nc.csv \n",
      "Saving the ID, lat, lon map at ./easymore_snotel/SMM_Snotel_remapped_swe_millimetersh20_4km_SWE_Depth_WY2009_v01.nc.csv \n",
      "Ended at date and time 2024-04-22 16:08:36.332908 \n",
      "It took 14.786204 seconds to finish the remapping of variable(s) \n",
      "---------------------\n",
      "Remapping ./subset_snotel\\4km_SWE_Depth_WY2010_v01.nc to ./easymore_snotel/SMM_Snotel_remapped_4km_SWE_Depth_WY2010_v01.nc \n",
      "Started at date and time 2024-04-22 16:08:36.337876 \n",
      "Converting variable swe from remapped file of ./easymore_snotel/SMM_Snotel_remapped_4km_SWE_Depth_WY2010_v01.nc to ./easymore_snotel/SMM_Snotel_remapped_swe_millimetersh20_4km_SWE_Depth_WY2010_v01.nc.csv \n",
      "Saving the ID, lat, lon map at ./easymore_snotel/SMM_Snotel_remapped_swe_millimetersh20_4km_SWE_Depth_WY2010_v01.nc.csv \n",
      "Ended at date and time 2024-04-22 16:08:50.525380 \n",
      "It took 14.187504 seconds to finish the remapping of variable(s) \n",
      "---------------------\n",
      "Remapping ./subset_snotel\\4km_SWE_Depth_WY2011_v01.nc to ./easymore_snotel/SMM_Snotel_remapped_4km_SWE_Depth_WY2011_v01.nc \n",
      "Started at date and time 2024-04-22 16:08:50.530390 \n",
      "Converting variable swe from remapped file of ./easymore_snotel/SMM_Snotel_remapped_4km_SWE_Depth_WY2011_v01.nc to ./easymore_snotel/SMM_Snotel_remapped_swe_millimetersh20_4km_SWE_Depth_WY2011_v01.nc.csv \n",
      "Saving the ID, lat, lon map at ./easymore_snotel/SMM_Snotel_remapped_swe_millimetersh20_4km_SWE_Depth_WY2011_v01.nc.csv \n",
      "Ended at date and time 2024-04-22 16:09:04.971299 \n",
      "It took 14.440909 seconds to finish the remapping of variable(s) \n",
      "---------------------\n",
      "Remapping ./subset_snotel\\4km_SWE_Depth_WY2012_v01.nc to ./easymore_snotel/SMM_Snotel_remapped_4km_SWE_Depth_WY2012_v01.nc \n",
      "Started at date and time 2024-04-22 16:09:04.976296 \n",
      "Converting variable swe from remapped file of ./easymore_snotel/SMM_Snotel_remapped_4km_SWE_Depth_WY2012_v01.nc to ./easymore_snotel/SMM_Snotel_remapped_swe_millimetersh20_4km_SWE_Depth_WY2012_v01.nc.csv \n",
      "Saving the ID, lat, lon map at ./easymore_snotel/SMM_Snotel_remapped_swe_millimetersh20_4km_SWE_Depth_WY2012_v01.nc.csv \n",
      "Ended at date and time 2024-04-22 16:09:18.983761 \n",
      "It took 14.007465 seconds to finish the remapping of variable(s) \n",
      "---------------------\n",
      "Remapping ./subset_snotel\\4km_SWE_Depth_WY2013_v01.nc to ./easymore_snotel/SMM_Snotel_remapped_4km_SWE_Depth_WY2013_v01.nc \n",
      "Started at date and time 2024-04-22 16:09:18.988685 \n",
      "Converting variable swe from remapped file of ./easymore_snotel/SMM_Snotel_remapped_4km_SWE_Depth_WY2013_v01.nc to ./easymore_snotel/SMM_Snotel_remapped_swe_millimetersh20_4km_SWE_Depth_WY2013_v01.nc.csv \n",
      "Saving the ID, lat, lon map at ./easymore_snotel/SMM_Snotel_remapped_swe_millimetersh20_4km_SWE_Depth_WY2013_v01.nc.csv \n",
      "Ended at date and time 2024-04-22 16:09:32.486011 \n",
      "It took 13.497326 seconds to finish the remapping of variable(s) \n",
      "---------------------\n",
      "Remapping ./subset_snotel\\4km_SWE_Depth_WY2014_v01.nc to ./easymore_snotel/SMM_Snotel_remapped_4km_SWE_Depth_WY2014_v01.nc \n",
      "Started at date and time 2024-04-22 16:09:32.490015 \n",
      "Converting variable swe from remapped file of ./easymore_snotel/SMM_Snotel_remapped_4km_SWE_Depth_WY2014_v01.nc to ./easymore_snotel/SMM_Snotel_remapped_swe_millimetersh20_4km_SWE_Depth_WY2014_v01.nc.csv \n",
      "Saving the ID, lat, lon map at ./easymore_snotel/SMM_Snotel_remapped_swe_millimetersh20_4km_SWE_Depth_WY2014_v01.nc.csv \n",
      "Ended at date and time 2024-04-22 16:09:43.263794 \n",
      "It took 10.773779 seconds to finish the remapping of variable(s) \n",
      "---------------------\n",
      "Remapping ./subset_snotel\\4km_SWE_Depth_WY2015_v01.nc to ./easymore_snotel/SMM_Snotel_remapped_4km_SWE_Depth_WY2015_v01.nc \n",
      "Started at date and time 2024-04-22 16:09:43.266790 \n",
      "Converting variable swe from remapped file of ./easymore_snotel/SMM_Snotel_remapped_4km_SWE_Depth_WY2015_v01.nc to ./easymore_snotel/SMM_Snotel_remapped_swe_millimetersh20_4km_SWE_Depth_WY2015_v01.nc.csv \n",
      "Saving the ID, lat, lon map at ./easymore_snotel/SMM_Snotel_remapped_swe_millimetersh20_4km_SWE_Depth_WY2015_v01.nc.csv \n",
      "Ended at date and time 2024-04-22 16:09:55.964481 \n",
      "It took 12.697691 seconds to finish the remapping of variable(s) \n",
      "---------------------\n",
      "Remapping ./subset_snotel\\4km_SWE_Depth_WY2016_v01.nc to ./easymore_snotel/SMM_Snotel_remapped_4km_SWE_Depth_WY2016_v01.nc \n",
      "Started at date and time 2024-04-22 16:09:55.969516 \n",
      "Converting variable swe from remapped file of ./easymore_snotel/SMM_Snotel_remapped_4km_SWE_Depth_WY2016_v01.nc to ./easymore_snotel/SMM_Snotel_remapped_swe_millimetersh20_4km_SWE_Depth_WY2016_v01.nc.csv \n",
      "Saving the ID, lat, lon map at ./easymore_snotel/SMM_Snotel_remapped_swe_millimetersh20_4km_SWE_Depth_WY2016_v01.nc.csv \n",
      "Ended at date and time 2024-04-22 16:10:07.250947 \n",
      "It took 11.281431 seconds to finish the remapping of variable(s) \n",
      "---------------------\n",
      "Remapping ./subset_snotel\\4km_SWE_Depth_WY2017_v01.nc to ./easymore_snotel/SMM_Snotel_remapped_4km_SWE_Depth_WY2017_v01.nc \n",
      "Started at date and time 2024-04-22 16:10:07.255965 \n",
      "Converting variable swe from remapped file of ./easymore_snotel/SMM_Snotel_remapped_4km_SWE_Depth_WY2017_v01.nc to ./easymore_snotel/SMM_Snotel_remapped_swe_millimetersh20_4km_SWE_Depth_WY2017_v01.nc.csv \n",
      "Saving the ID, lat, lon map at ./easymore_snotel/SMM_Snotel_remapped_swe_millimetersh20_4km_SWE_Depth_WY2017_v01.nc.csv \n",
      "Ended at date and time 2024-04-22 16:10:19.497188 \n",
      "It took 12.241223 seconds to finish the remapping of variable(s) \n",
      "---------------------\n",
      "Remapping ./subset_snotel\\4km_SWE_Depth_WY2018_v01.nc to ./easymore_snotel/SMM_Snotel_remapped_4km_SWE_Depth_WY2018_v01.nc \n",
      "Started at date and time 2024-04-22 16:10:19.501191 \n",
      "Converting variable swe from remapped file of ./easymore_snotel/SMM_Snotel_remapped_4km_SWE_Depth_WY2018_v01.nc to ./easymore_snotel/SMM_Snotel_remapped_swe_millimetersh20_4km_SWE_Depth_WY2018_v01.nc.csv \n",
      "Saving the ID, lat, lon map at ./easymore_snotel/SMM_Snotel_remapped_swe_millimetersh20_4km_SWE_Depth_WY2018_v01.nc.csv \n",
      "Ended at date and time 2024-04-22 16:10:31.471344 \n",
      "It took 11.970153 seconds to finish the remapping of variable(s) \n",
      "---------------------\n",
      "---------------------\n"
     ]
    }
   ],
   "source": [
    "esmr.nc_remapper()"
   ]
  },
  {
   "cell_type": "code",
   "execution_count": null,
   "id": "469bdca1-5d0b-4c18-a1ee-63c5fda52276",
   "metadata": {},
   "outputs": [],
   "source": []
  }
 ],
 "metadata": {
  "kernelspec": {
   "display_name": "Python 3 (ipykernel)",
   "language": "python",
   "name": "python3"
  },
  "language_info": {
   "codemirror_mode": {
    "name": "ipython",
    "version": 3
   },
   "file_extension": ".py",
   "mimetype": "text/x-python",
   "name": "python",
   "nbconvert_exporter": "python",
   "pygments_lexer": "ipython3",
   "version": "3.10.13"
  }
 },
 "nbformat": 4,
 "nbformat_minor": 5
}
