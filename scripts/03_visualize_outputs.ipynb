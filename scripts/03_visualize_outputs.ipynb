{
 "cells": [
  {
   "cell_type": "markdown",
   "id": "81d534c9-ed0d-4072-8b09-beeffb056736",
   "metadata": {},
   "source": [
    "## Description\n",
    "__________\n",
    "\n",
    "This script reads a selected ESP output file and produces a plot containing each ensemble member,  \n",
    "uncertainty bands and the mean of the ensemble for a given variable. If simulated flow is being plotted,  \n",
    "observed flow will also be plotted and simulated streamflow from a full model run can optionally be included. \n"
   ]
  },
  {
   "cell_type": "markdown",
   "id": "95378d57-0170-4b9b-9a4f-80aba4d2bcd0",
   "metadata": {},
   "source": [
    "### Import Libraries"
   ]
  },
  {
   "cell_type": "code",
   "execution_count": null,
   "id": "cca3f8f0-106f-4284-ac28-406d328c769b",
   "metadata": {},
   "outputs": [],
   "source": [
    "import xarray as xr\n",
    "import matplotlib.pyplot as plt\n",
    "import pandas as pd\n",
    "import numpy as np\n",
    "import os"
   ]
  },
  {
   "cell_type": "markdown",
   "id": "c6fa72f2-7a2a-46c0-9f3b-e313ffa09a91",
   "metadata": {},
   "source": [
    "### Inputs"
   ]
  },
  {
   "cell_type": "code",
   "execution_count": null,
   "id": "eb9b70ee-21ce-4055-9e56-417ef168ca9b",
   "metadata": {},
   "outputs": [],
   "source": [
    "esp_path = '../58213_esp_results/1982_esp.nc'   # Define the path to the ESP output to visualize\n",
    "variable= 'cout'                                # Define the variable to plot (cout or snow)\n",
    "output_directory= '../'                         # Define the location of the output"
   ]
  },
  {
   "cell_type": "code",
   "execution_count": null,
   "id": "a92b4ec1-7d7c-4aec-82b7-db19e7f278b3",
   "metadata": {},
   "outputs": [],
   "source": [
    "# adding computed runoff for given year (optional, replace with False if not using)\n",
    "computed_path= '../0058213.txt'"
   ]
  },
  {
   "cell_type": "markdown",
   "id": "f37904db-f012-4b76-b48c-349bbc182aee",
   "metadata": {},
   "source": [
    "### Plot ESP"
   ]
  },
  {
   "cell_type": "code",
   "execution_count": null,
   "id": "1d6697b3-cf00-4762-915a-9dd76860577e",
   "metadata": {},
   "outputs": [],
   "source": [
    "# Open esp dataset\n",
    "esp= xr.open_dataset(esp_path)"
   ]
  },
  {
   "cell_type": "code",
   "execution_count": null,
   "id": "5214f405-bc8d-4ff4-957b-5f9711241e7c",
   "metadata": {},
   "outputs": [],
   "source": [
    "# Convert all data variable values to float\n",
    "esp = esp.astype(float)\n",
    "\n",
    "# Convert 'DATE' coordinate to datetime format\n",
    "esp['DATE'] = pd.to_datetime(esp['DATE'])"
   ]
  },
  {
   "cell_type": "code",
   "execution_count": null,
   "id": "ab521d54-dfd4-42cb-a8ef-2b3c52582c62",
   "metadata": {},
   "outputs": [],
   "source": [
    "# Calculate the mean of variable across ensemble members\n",
    "mean_var = esp[variable].mean(dim='ensemble_member')"
   ]
  },
  {
   "cell_type": "code",
   "execution_count": null,
   "id": "4afdfdf2-e849-41ed-b712-226bc7f3643b",
   "metadata": {},
   "outputs": [],
   "source": [
    "percentile_25 = esp[variable].quantile(0.25, dim='ensemble_member')\n",
    "percentile_75 = esp[variable].quantile(0.75, dim='ensemble_member')"
   ]
  },
  {
   "cell_type": "code",
   "execution_count": null,
   "id": "f2de0ada-8f94-4917-bc79-a3399487d226",
   "metadata": {},
   "outputs": [],
   "source": [
    "# Extract the first and last date from the 'DATE' coordinate\n",
    "first_date = esp['DATE'].min().values\n",
    "last_date = esp['DATE'].max().values\n",
    "\n",
    "# Format first and last dates to remove the time part\n",
    "first_date_str = pd.Timestamp(first_date).strftime('%Y-%m-%d')\n",
    "last_date_str = pd.Timestamp(last_date).strftime('%Y-%m-%d')\n",
    "\n",
    "# Convert formatted date strings back to datetime objects\n",
    "first_date_dt = pd.to_datetime(first_date_str, format='%Y-%m-%d')\n",
    "last_date_dt = pd.to_datetime(last_date_str, format='%Y-%m-%d')"
   ]
  },
  {
   "cell_type": "code",
   "execution_count": null,
   "id": "173ec6cb-e823-43ce-b30d-cbeb9dec0a32",
   "metadata": {},
   "outputs": [],
   "source": [
    "first_date_dt"
   ]
  },
  {
   "cell_type": "code",
   "execution_count": null,
   "id": "2d110fca-68ad-4ca3-b934-19029a730e1a",
   "metadata": {},
   "outputs": [],
   "source": [
    "if computed_path is not None:\n",
    "    # Read the DataFrame from the computed_path\n",
    "    sim = pd.read_csv(computed_path, sep='\\t', index_col=0)\n",
    "\n",
    "    sim = sim.drop('UNITS', axis=0)\n",
    "\n",
    "    # Convert index to datetime format\n",
    "    sim.index = pd.to_datetime(sim.index, errors='coerce')\n",
    "\n",
    "    # Trim the DataFrame based on the date range\n",
    "    sim = sim.loc[first_date_dt:last_date_dt]\n",
    "\n",
    "    # Convert 'cout' column to numeric if needed\n",
    "    sim['cout'] = pd.to_numeric(sim['cout'], errors='coerce')"
   ]
  },
  {
   "cell_type": "code",
   "execution_count": null,
   "id": "e76a2ff5-f355-43fb-83b1-e06af4f9a1bd",
   "metadata": {},
   "outputs": [],
   "source": [
    "# Plotting all values of cout for each ensemble member\n",
    "plt.figure(figsize=(16, 10))  # Adjust the figsize as needed\n",
    "# Plot ensemble members with same color\n",
    "esp[variable].plot.line(x='DATE', color='blue', alpha=0.1, zorder=1)\n",
    "# Plot the mean value of 'cout' with a different style\n",
    "mean_var.plot.line(x='DATE', color='red', label='Mean Cout', zorder=2)\n",
    "# Plot the 25th and 75th percentiles\n",
    "plt.fill_between(mean_var['DATE'], percentile_25, percentile_75, color='purple', alpha=0.6, label='25th-75th Percentiles', zorder=3)\n",
    "\n",
    "# If variable is 'cout', calculate and plot the mean of 'rout'\n",
    "if variable == 'cout':\n",
    "    # Calculate the mean of 'rout' across ensemble members\n",
    "    mean_obs = esp['rout'].mean(dim='ensemble_member')\n",
    "    mean_obs.plot.line(x='DATE', color='green', label='Mean Rout (Observed)', zorder=2)\n",
    "    \n",
    "if computed_path is not None:\n",
    "    # Plot 'cout' from trimmed_df\n",
    "    sim['cout'].plot.line(x='DATE', color='orange', label='Modelled Flow', zorder=4)\n",
    "    \n",
    "# Adding labels and title\n",
    "plt.xlabel('Date')\n",
    "plt.ylabel(f'{variable} Value')\n",
    "plt.title(f'{variable} Values for Each Ensemble Member')\n",
    "\n",
    "# Create custom legend entry for all ensemble members\n",
    "plt.plot([], color='blue', alpha=0.5, label='All Ensemble Members')\n",
    "\n",
    "# Save the plot to the specified directory\n",
    "save_path = os.path.join(output_directory, 'esp_plot.png')\n",
    "plt.savefig(save_path)\n",
    "\n",
    "# Display the legend\n",
    "plt.legend()\n",
    "\n",
    "# Display the plot\n",
    "plt.show()"
   ]
  },
  {
   "cell_type": "code",
   "execution_count": null,
   "id": "3e146b57-ea51-4ab0-a708-ea0eb8138329",
   "metadata": {},
   "outputs": [],
   "source": []
  }
 ],
 "metadata": {
  "kernelspec": {
   "display_name": "Python 3 (ipykernel)",
   "language": "python",
   "name": "python3"
  },
  "language_info": {
   "codemirror_mode": {
    "name": "ipython",
    "version": 3
   },
   "file_extension": ".py",
   "mimetype": "text/x-python",
   "name": "python",
   "nbconvert_exporter": "python",
   "pygments_lexer": "ipython3",
   "version": "3.10.13"
  }
 },
 "nbformat": 4,
 "nbformat_minor": 5
}
