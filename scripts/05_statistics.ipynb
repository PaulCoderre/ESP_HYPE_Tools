{
 "cells": [
  {
   "cell_type": "markdown",
   "id": "35d139ef-270e-4d92-9a46-036cfb163bfb",
   "metadata": {},
   "source": [
    "## Description\n",
    "_______\n",
    "\n",
    "This script calculates statistics for the simulated vs. observed streamflow from the ESP outputs. \n",
    "Statistics currently being calculated are bias for each year included in the ESP analysis, correlation coefficient,\n",
    "RMSE and NSE (Huang et al. 2017). These statistics are being calculated with the mean of the ensemble. \n",
    "The variables used for the calculations are described in the \"Other Stitistics\" cell so that additional stats can easily be added. Stats are calculated between start_date and end_date"
   ]
  },
  {
   "cell_type": "markdown",
   "id": "516a2092-0036-482a-9828-7dad5224593e",
   "metadata": {},
   "source": [
    "### Import Libraries"
   ]
  },
  {
   "cell_type": "code",
   "execution_count": null,
   "id": "01abbe77-9fb8-4d20-adda-3bc7b5e62816",
   "metadata": {},
   "outputs": [],
   "source": [
    "import xarray as xr\n",
    "import matplotlib.pyplot as plt\n",
    "import pandas as pd\n",
    "import os\n",
    "import numpy as np\n",
    "from scipy.integrate import simps"
   ]
  },
  {
   "cell_type": "markdown",
   "id": "ff2c2823-9507-493b-b26a-e066b83b6858",
   "metadata": {},
   "source": [
    "### Inputs"
   ]
  },
  {
   "cell_type": "code",
   "execution_count": null,
   "id": "74789fc1-c98d-408e-b683-cb04ed23fc53",
   "metadata": {},
   "outputs": [],
   "source": [
    "# Define inputs for the plot\n",
    "directory_path= '../58213_esp_results/' # directory containing ESP outputs\n",
    "start_date= '04-01'       # start date for esp analysis in %Y-%m-%d\n",
    "end_date= '04-30'         # end date for esp analysis in %Y-%m-%d\n",
    "output_directory= '../'   # location for the outputs"
   ]
  },
  {
   "cell_type": "code",
   "execution_count": null,
   "id": "c4ed2b7a-d10a-4cd2-8396-df03455b3fce",
   "metadata": {},
   "outputs": [],
   "source": [
    "# adding computed runoff for given year (optional, replace with False if not using)\n",
    "computed_path= None #'../0058213.txt'"
   ]
  },
  {
   "cell_type": "markdown",
   "id": "486a55e1-0924-4e18-9565-51631a333d50",
   "metadata": {},
   "source": [
    "### Generate Plot"
   ]
  },
  {
   "cell_type": "code",
   "execution_count": null,
   "id": "4434a601-9d8e-472e-ab63-8882f562353c",
   "metadata": {},
   "outputs": [],
   "source": [
    "# Extract month and day from the dates\n",
    "start_month, start_day = start_date.split('-')\n",
    "end_month, end_day = end_date.split('-')\n",
    "\n",
    "# Convert dates to integers\n",
    "start_month, start_day = int(start_month), int(start_day)\n",
    "end_month, end_day = int(end_month), int(end_day)"
   ]
  },
  {
   "cell_type": "code",
   "execution_count": null,
   "id": "cfdc2779-5476-43ed-b75a-4e32c2937872",
   "metadata": {},
   "outputs": [],
   "source": [
    "# Initialize an empty list to store the total simulated runoff for each ensemble member\n",
    "all_sum_cout_series = []\n",
    "\n",
    "# Initialize an empty list to store the total observed runoff for each ensemble member\n",
    "all_sum_rout_series = []"
   ]
  },
  {
   "cell_type": "code",
   "execution_count": null,
   "id": "b5956c90-1a03-412c-a27d-d1602ce800d7",
   "metadata": {},
   "outputs": [],
   "source": [
    "if computed_path is not None:\n",
    "    # Read the DataFrame from the computed_path\n",
    "    sim = pd.read_csv(computed_path, sep='\\t', index_col=0)\n",
    "\n",
    "    sim = sim.drop('UNITS', axis=0)\n",
    "\n",
    "    # Convert index to datetime format\n",
    "    sim.index = pd.to_datetime(sim.index, errors='coerce')\n",
    "    \n",
    "    sum_model_sim= []\n",
    "    \n",
    "        # Convert 'cout' column to numeric if needed\n",
    "    sim['cout'] = pd.to_numeric(sim['cout'], errors='coerce')\n"
   ]
  },
  {
   "cell_type": "code",
   "execution_count": null,
   "id": "e29a4819-611e-4001-b9ae-ade2088b49ab",
   "metadata": {},
   "outputs": [],
   "source": [
    "# Iterate through each .nc file in the directory\n",
    "for filename in os.listdir(directory_path):\n",
    "    if filename.endswith('.nc'):\n",
    "        # Construct the full file path\n",
    "        file_path = os.path.join(directory_path, filename)\n",
    "        \n",
    "        # Open the esp output file\n",
    "        esp = xr.open_dataset(file_path)\n",
    "        \n",
    "        # Convert all data variable values to float\n",
    "        esp = esp.astype(float)\n",
    "        \n",
    "        # Convert 'DATE' coordinate to datetime format\n",
    "        esp['DATE'] = pd.to_datetime(esp['DATE'])\n",
    "        \n",
    "        # Extract the year from the last DATE\n",
    "        last_date_year = pd.to_datetime(esp['DATE'][-1].values).year\n",
    "        \n",
    "        # Create start_date and end_date for the analysis period\n",
    "        start_date = pd.Timestamp(year=last_date_year, month=start_month, day=start_day)\n",
    "        end_date = pd.Timestamp(year=last_date_year, month=end_month, day=end_day)\n",
    "        \n",
    "        # Select data between start_date and end_date \n",
    "        ds_selected = esp.sel(DATE=slice(start_date, end_date))\n",
    "        \n",
    "        # Sum 'cout' variable for each ensemble member\n",
    "        sum_cout = ds_selected['cout'].sum(dim='DATE')\n",
    "        sum_rout= ds_selected['rout'].sum(dim='DATE')\n",
    "        \n",
    "        # Convert sum_cout to pandas Series\n",
    "        sum_cout_series = sum_cout.to_series()\n",
    "        sum_rout_series = sum_rout.to_series()\n",
    "        \n",
    "        # Ensure the simulated index is a DatetimeIndex and add year of analysis to series\n",
    "        sum_cout_series.index = pd.to_datetime(sum_cout_series.index)\n",
    "        sum_cout_series.index = sum_cout_series.index.map(lambda x: x.replace(year=last_date_year))\n",
    "        \n",
    "        # Ensure the observed index is a DatetimeIndex and add year of analysis to series\n",
    "        sum_rout_series.index = pd.to_datetime(sum_rout_series.index)\n",
    "        sum_rout_series.index = sum_rout_series.index.map(lambda x: x.replace(year=last_date_year))\n",
    "        \n",
    "        if computed_path is not None:\n",
    "            # Trim the DataFrame based on the date range\n",
    "            model_sim = sim.loc[start_date:end_date]\n",
    "            \n",
    "            # Sum the 'cout' column\n",
    "            sum_sim = model_sim['cout'].sum()\n",
    "            \n",
    "            sim_series= sum_rout_series.copy()\n",
    "            \n",
    "            sim_series[:]= sum_sim\n",
    "            \n",
    "            sim_series.name = 'sim'\n",
    "            \n",
    "            sum_model_sim.append(sim_series)\n",
    "        \n",
    "        # Append the simulated and observed series to the list\n",
    "        all_sum_cout_series.append(sum_cout_series)\n",
    "        all_sum_rout_series.append(sum_rout_series)\n"
   ]
  },
  {
   "cell_type": "code",
   "execution_count": null,
   "id": "ab83d936-ac3b-4672-9064-3d65f7d6d4cb",
   "metadata": {},
   "outputs": [],
   "source": [
    "# Concatenate all sum_cout_series into a single series\n",
    "sum_cout_series_combined = pd.concat(all_sum_cout_series)\n",
    "sum_rout_series_combined = pd.concat(all_sum_rout_series)"
   ]
  },
  {
   "cell_type": "code",
   "execution_count": null,
   "id": "170eda16-348d-456e-ad8d-c8b45f635738",
   "metadata": {},
   "outputs": [],
   "source": [
    "# Extract unique years from the computed runoff\n",
    "unique_years = sum_cout_series_combined.index.year.unique()"
   ]
  },
  {
   "cell_type": "code",
   "execution_count": null,
   "id": "98c3c995-13d7-4c00-97bf-3ee7a2103f06",
   "metadata": {},
   "outputs": [],
   "source": [
    "# Extract simulated data for each unique year \n",
    "yearly_cout = [sum_cout_series_combined[sum_cout_series_combined.index.year == year].values \n",
    "        for year in sum_cout_series_combined.index.year.unique()]"
   ]
  },
  {
   "cell_type": "code",
   "execution_count": null,
   "id": "f9b7f2a2-f185-4993-8428-480177f90421",
   "metadata": {},
   "outputs": [],
   "source": [
    "yearly_rout= [sum_rout_series_combined[sum_rout_series_combined.index.year == year].values \n",
    "        for year in sum_rout_series_combined.index.year.unique()]"
   ]
  },
  {
   "cell_type": "code",
   "execution_count": null,
   "id": "060fc411-e88b-47fd-b369-3a568531eb84",
   "metadata": {},
   "outputs": [],
   "source": [
    "# Calculate the mean for each year\n",
    "mean_yearly_cout = [np.mean(year_data) for year_data in yearly_cout]\n",
    "rout_value = [np.mean(year_data) for year_data in yearly_rout]"
   ]
  },
  {
   "cell_type": "markdown",
   "id": "acc3fcfa-0e5e-41ba-8209-4d0131878a38",
   "metadata": {},
   "source": [
    "#### Calculate Statistics"
   ]
  },
  {
   "cell_type": "code",
   "execution_count": null,
   "id": "aff71c45-dfcc-4393-8f08-e3123e020537",
   "metadata": {},
   "outputs": [],
   "source": [
    "#def crps(observed, forecast):\n",
    "#    n = len(forecast)\n",
    "#    crps_values = []\n",
    "#    \n",
    "#    for i in range(n):\n",
    "#        # Sort the forecast values\n",
    "#        fc_sorted = np.sort(forecast[i])\n",
    "#        \n",
    "#        # Calculate the cumulative sum\n",
    "#        fc_cdf = np.cumsum(fc_sorted) / np.sum(fc_sorted)\n",
    "#        \n",
    "#        # Calculate the CRPS using Simpson's rule\n",
    "#        crps_value = simps((fc_cdf - (observed[i] / np.sum(fc_sorted)))**2, fc_sorted)\n",
    "#        crps_values.append(crps_value)\n",
    "#        \n",
    "#        \n",
    "#    return crps_values"
   ]
  },
  {
   "cell_type": "code",
   "execution_count": null,
   "id": "1867cdd2-5572-415f-a2e8-2443531a7498",
   "metadata": {},
   "outputs": [],
   "source": [
    "# Calculate CRPS\n",
    "# crps_values = crps(rout_value, yearly_cout)"
   ]
  },
  {
   "cell_type": "code",
   "execution_count": null,
   "id": "b8402b75-50e5-4c24-92a5-3c87497925d5",
   "metadata": {},
   "outputs": [],
   "source": [
    "# Create results dataframe\n",
    "results = pd.DataFrame({\n",
    "    'ESP Mean Total Flow (cms)': mean_yearly_cout,\n",
    "    'Observed Total Flow (cms)': rout_value\n",
    "}, index=unique_years)"
   ]
  },
  {
   "cell_type": "code",
   "execution_count": null,
   "id": "e5ce1290-4669-4600-b3d7-6255c48bdcc5",
   "metadata": {},
   "outputs": [],
   "source": [
    "# Calculate bias \n",
    "results['Observed Bias'] = results['ESP Mean Total Flow (cms)'] - results['Observed Total Flow (cms)']"
   ]
  },
  {
   "cell_type": "code",
   "execution_count": null,
   "id": "b9bb90b4-3145-4b3d-9d41-72e66a66398f",
   "metadata": {},
   "outputs": [],
   "source": [
    "# calculate mean bias across years\n",
    "mean_bias = results['Observed Bias'].mean()"
   ]
  },
  {
   "cell_type": "code",
   "execution_count": null,
   "id": "617e2549-832e-4f1a-bbaa-a6b6ff948fa6",
   "metadata": {},
   "outputs": [],
   "source": [
    "# Calculate correlation coefficient for each row\n",
    "correlation_coefficient = np.corrcoef(results['ESP Mean Total Flow (cms)'], results['Observed Total Flow (cms)'])[0, 1]"
   ]
  },
  {
   "cell_type": "code",
   "execution_count": null,
   "id": "315a8194-7898-471c-adbb-ff1a6a3ad3b1",
   "metadata": {},
   "outputs": [],
   "source": [
    "# Calculate RMSE for each row\n",
    "rmse = np.sqrt(np.mean((results['Observed Total Flow (cms)'] - results['ESP Mean Total Flow (cms)'])**2))"
   ]
  },
  {
   "cell_type": "code",
   "execution_count": null,
   "id": "337c109f-0567-4d99-b8a7-847aa81d6fdd",
   "metadata": {},
   "outputs": [],
   "source": [
    "# Calculate NSE\n",
    "observed_mean = np.mean(results['Observed Total Flow (cms)'])\n",
    "nse = 1 - (np.sum((results['Observed Total Flow (cms)'] - results['ESP Mean Total Flow (cms)'])**2) / \n",
    "           np.sum((results['Observed Total Flow (cms)'] - observed_mean)**2))"
   ]
  },
  {
   "cell_type": "code",
   "execution_count": null,
   "id": "01839974-cb34-44dd-830c-bcb14bde5e1f",
   "metadata": {},
   "outputs": [],
   "source": [
    "# Create DataFrame\n",
    "metrics = pd.DataFrame({\n",
    "    'Observed Values': [correlation_coefficient, rmse, nse, mean_bias]\n",
    "}, index=['Correlation Coefficient', 'RMSE', 'Nash Sutcliffe Efficiency', 'Mean Bias'])"
   ]
  },
  {
   "cell_type": "code",
   "execution_count": null,
   "id": "cca9cb47-7570-431c-a807-1ac624cd643d",
   "metadata": {},
   "outputs": [],
   "source": [
    "if computed_path is not None:\n",
    "    # concat simulated values\n",
    "    sum_model_sim_combined= pd.concat(sum_model_sim)\n",
    "    \n",
    "    # extract single value for each year\n",
    "    yearly_computed= [sum_model_sim_combined[sum_model_sim_combined.index.year == year].values \n",
    "        for year in sum_model_sim_combined.index.year.unique()]\n",
    "    \n",
    "    computed_value = [np.mean(year_data) for year_data in yearly_computed]\n",
    "\n",
    "    # Add 'Computed Total Flow (cms)' column to 'results'\n",
    "    results['Simulated Total Flow (cms)'] = computed_value\n",
    "\n",
    "    # Move 'Computed Total Flow (cms)' column to the third position\n",
    "    cols = results.columns.tolist()\n",
    "    cols.insert(2, cols.pop(cols.index('Simulated Total Flow (cms)')))\n",
    "    results = results[cols]\n",
    "    \n",
    "    results['Simulated Bias'] = results['ESP Mean Total Flow (cms)'] - results['Simulated Total Flow (cms)']\n",
    "    \n",
    "    # calculate mean bias across years\n",
    "    sim_mean_bias = results['Simulated Bias'].mean()\n",
    "    \n",
    "    # Calculate 'Percent Difference'\n",
    "    results['Percent Difference'] = ((results['Simulated Bias'] - results['Observed Total Flow (cms)']) / \n",
    "                                 results['Observed Total Flow (cms)']) * 100\n",
    "    \n",
    "    # Calculate correlation coefficient for each row\n",
    "    sim_correlation_coefficient = np.corrcoef(results['ESP Mean Total Flow (cms)'], results['Simulated Total Flow (cms)'])[0, 1]\n",
    "    \n",
    "    # Calculate RMSE for each row\n",
    "    sim_rmse = np.sqrt(np.mean((results['Simulated Total Flow (cms)'] - results['ESP Mean Total Flow (cms)'])**2))\n",
    "    \n",
    "    # Calculate NSE\n",
    "    sim_observed_mean = np.mean(results['Observed Total Flow (cms)'])\n",
    "    sim_nse = 1 - (np.sum((results['Observed Total Flow (cms)'] - results['ESP Mean Total Flow (cms)'])**2) / \n",
    "               np.sum((results['Observed Total Flow (cms)'] - sim_observed_mean)**2))\n",
    "    \n",
    "    # Create DataFrame\n",
    "    metrics = pd.DataFrame({\n",
    "        'Observed Statistics': [correlation_coefficient, rmse, nse, mean_bias],\n",
    "        'Simulated Statistics': [sim_correlation_coefficient, sim_rmse, sim_nse, sim_mean_bias]\n",
    "     }, index=['Correlation Coefficient', 'RMSE', 'Nash Sutcliffe Efficiency', 'Mean Bias'])\n",
    "    "
   ]
  },
  {
   "cell_type": "markdown",
   "id": "4299fc06-2c92-4dca-85f4-e3984f7fd069",
   "metadata": {},
   "source": [
    "### Other Statistics\n",
    "_______\n",
    "Compute any requred statistic by using:  \n",
    "rout_value= Observed streamflow for each year  \n",
    "mean_yearly_cout= Mean simulated streamflow for the ensemble   \n",
    "yearly_cout= Ensemble of esp streamflows for each year  "
   ]
  },
  {
   "cell_type": "markdown",
   "id": "8ae53841-ef7f-4e3e-8a1d-260769ae9bc4",
   "metadata": {},
   "source": [
    "#### Outputs"
   ]
  },
  {
   "cell_type": "code",
   "execution_count": null,
   "id": "cd512e4c-a92d-4e81-b3d7-3c21d107a6b4",
   "metadata": {
    "scrolled": true,
    "tags": []
   },
   "outputs": [],
   "source": [
    "# define outputs\n",
    "bias_filename = 'esp_bias.csv'\n",
    "bias_output_path = output_directory + bias_filename\n",
    "\n",
    "statistics_filename= 'esp_stats.csv'\n",
    "stats_output_path = output_directory + statistics_filename"
   ]
  },
  {
   "cell_type": "code",
   "execution_count": null,
   "id": "61466ca6-f7fa-4574-982f-8360b204b85a",
   "metadata": {},
   "outputs": [],
   "source": [
    "# Convert all values in DataFrames to floats\n",
    "results = results.astype(float)\n",
    "metrics = metrics.astype(float)\n",
    "\n",
    "# Round all values to two decimal places\n",
    "results = results.round(2)\n",
    "metrics = metrics.round(2)"
   ]
  },
  {
   "cell_type": "code",
   "execution_count": null,
   "id": "dd3b574d-9218-44b9-971d-2beb64a864c3",
   "metadata": {},
   "outputs": [],
   "source": [
    "# Save bias to CSV\n",
    "results.to_csv(bias_output_path)\n",
    "\n",
    "# save stats to CSV\n",
    "metrics.to_csv(stats_output_path)"
   ]
  },
  {
   "cell_type": "code",
   "execution_count": null,
   "id": "718b4f1c-fe5a-4228-afc8-047f1843b920",
   "metadata": {},
   "outputs": [],
   "source": []
  }
 ],
 "metadata": {
  "kernelspec": {
   "display_name": "Python 3 (ipykernel)",
   "language": "python",
   "name": "python3"
  },
  "language_info": {
   "codemirror_mode": {
    "name": "ipython",
    "version": 3
   },
   "file_extension": ".py",
   "mimetype": "text/x-python",
   "name": "python",
   "nbconvert_exporter": "python",
   "pygments_lexer": "ipython3",
   "version": "3.10.13"
  }
 },
 "nbformat": 4,
 "nbformat_minor": 5
}
